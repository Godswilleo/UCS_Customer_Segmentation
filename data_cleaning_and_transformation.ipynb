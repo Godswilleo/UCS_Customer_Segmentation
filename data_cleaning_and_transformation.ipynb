{
 "cells": [
  {
   "cell_type": "markdown",
   "id": "48e6acdd",
   "metadata": {},
   "source": [
    "# INTRODUCTION"
   ]
  },
  {
   "cell_type": "code",
   "execution_count": 111,
   "id": "a2750676",
   "metadata": {},
   "outputs": [],
   "source": [
    "# importing necessary libraries\n",
    "import pandas as pd\n",
    "import matplotlib as mp\n",
    "import seaborn as sb\n",
    "\n"
   ]
  },
  {
   "cell_type": "code",
   "execution_count": 231,
   "id": "82172832",
   "metadata": {},
   "outputs": [],
   "source": [
    "# Accessing the dataframe\n",
    "retail_df = pd.read_excel('online_retail.xlsx', sheet_name=\"original\")"
   ]
  },
  {
   "cell_type": "markdown",
   "id": "943d8a79",
   "metadata": {},
   "source": [
    "# Dataset Description\n",
    "**InvoiceNo:** Invoice number. Nominal, a 6-digit integral number uniquely assigned to each transaction. If this code starts with letter 'c', it indicates a cancellation. \n",
    "\n",
    "**StockCode:** Product (item) code. Nominal, a 5-digit integral number uniquely assigned to each distinct product.\n",
    "\n",
    "**Description:** Product (item) name. Nominal.\n",
    "\n",
    "**Quantity:** The quantities of each product (item) per transaction. Numeric.\t\n",
    "\n",
    "**InvoiceDate:** Invice Date and time. Numeric, the day and time when each transaction was generated.\n",
    "\n",
    "**UnitPrice:** Unit price. Numeric, Product price per unit in sterling.\n",
    "\n",
    "**CustomerID:** Customer number. Nominal, a 5-digit integral number uniquely assigned to each customer.\n",
    "\n",
    "**Country:** Country name. Nominal, the name of the country where each customer resides. "
   ]
  },
  {
   "cell_type": "markdown",
   "id": "86a507b2",
   "metadata": {},
   "source": [
    "# INVESTIGATING THE DATAFRAME"
   ]
  },
  {
   "cell_type": "code",
   "execution_count": 232,
   "id": "b3467c39",
   "metadata": {},
   "outputs": [
    {
     "name": "stdout",
     "output_type": "stream",
     "text": [
      "<class 'pandas.core.frame.DataFrame'>\n",
      "RangeIndex: 541909 entries, 0 to 541908\n",
      "Data columns (total 8 columns):\n",
      " #   Column       Non-Null Count   Dtype         \n",
      "---  ------       --------------   -----         \n",
      " 0   InvoiceNo    541909 non-null  object        \n",
      " 1   StockCode    541909 non-null  object        \n",
      " 2   Description  540455 non-null  object        \n",
      " 3   Quantity     541909 non-null  int64         \n",
      " 4   InvoiceDate  541909 non-null  datetime64[ns]\n",
      " 5   UnitPrice    541909 non-null  float64       \n",
      " 6   CustomerID   406829 non-null  float64       \n",
      " 7   Country      541909 non-null  object        \n",
      "dtypes: datetime64[ns](1), float64(2), int64(1), object(4)\n",
      "memory usage: 33.1+ MB\n"
     ]
    }
   ],
   "source": [
    "# Investigating the columns in the dataframe\n",
    "retail_df.info()"
   ]
  },
  {
   "cell_type": "code",
   "execution_count": 233,
   "id": "fc7d9b91",
   "metadata": {},
   "outputs": [
    {
     "data": {
      "text/plain": [
       "5268"
      ]
     },
     "execution_count": 233,
     "metadata": {},
     "output_type": "execute_result"
    }
   ],
   "source": [
    "## Checking for duplicates\n",
    "sum(retail_df.duplicated())"
   ]
  },
  {
   "cell_type": "code",
   "execution_count": 234,
   "id": "6043187a",
   "metadata": {},
   "outputs": [
    {
     "data": {
      "text/html": [
       "<div>\n",
       "<style scoped>\n",
       "    .dataframe tbody tr th:only-of-type {\n",
       "        vertical-align: middle;\n",
       "    }\n",
       "\n",
       "    .dataframe tbody tr th {\n",
       "        vertical-align: top;\n",
       "    }\n",
       "\n",
       "    .dataframe thead th {\n",
       "        text-align: right;\n",
       "    }\n",
       "</style>\n",
       "<table border=\"1\" class=\"dataframe\">\n",
       "  <thead>\n",
       "    <tr style=\"text-align: right;\">\n",
       "      <th></th>\n",
       "      <th>InvoiceNo</th>\n",
       "      <th>StockCode</th>\n",
       "      <th>Description</th>\n",
       "      <th>Quantity</th>\n",
       "      <th>InvoiceDate</th>\n",
       "      <th>UnitPrice</th>\n",
       "      <th>CustomerID</th>\n",
       "      <th>Country</th>\n",
       "    </tr>\n",
       "  </thead>\n",
       "  <tbody>\n",
       "    <tr>\n",
       "      <th>229622</th>\n",
       "      <td>557066</td>\n",
       "      <td>22469</td>\n",
       "      <td>HEART OF WICKER SMALL</td>\n",
       "      <td>12</td>\n",
       "      <td>2011-06-16 15:10:00</td>\n",
       "      <td>1.65</td>\n",
       "      <td>17463.0</td>\n",
       "      <td>United Kingdom</td>\n",
       "    </tr>\n",
       "    <tr>\n",
       "      <th>387333</th>\n",
       "      <td>570284</td>\n",
       "      <td>22834</td>\n",
       "      <td>HAND WARMER BABUSHKA DESIGN</td>\n",
       "      <td>1</td>\n",
       "      <td>2011-10-10 11:30:00</td>\n",
       "      <td>2.10</td>\n",
       "      <td>14419.0</td>\n",
       "      <td>United Kingdom</td>\n",
       "    </tr>\n",
       "    <tr>\n",
       "      <th>165845</th>\n",
       "      <td>550829</td>\n",
       "      <td>23133</td>\n",
       "      <td>LARGE IVORY HEART WALL ORGANISER</td>\n",
       "      <td>1</td>\n",
       "      <td>2011-04-21 10:19:00</td>\n",
       "      <td>8.25</td>\n",
       "      <td>17841.0</td>\n",
       "      <td>United Kingdom</td>\n",
       "    </tr>\n",
       "    <tr>\n",
       "      <th>37763</th>\n",
       "      <td>539477</td>\n",
       "      <td>84247G</td>\n",
       "      <td>DECOUPAGE,GREETING CARD,</td>\n",
       "      <td>12</td>\n",
       "      <td>2010-12-19 14:58:00</td>\n",
       "      <td>0.42</td>\n",
       "      <td>18245.0</td>\n",
       "      <td>United Kingdom</td>\n",
       "    </tr>\n",
       "    <tr>\n",
       "      <th>528545</th>\n",
       "      <td>580729</td>\n",
       "      <td>23282</td>\n",
       "      <td>FOLDING BUTTERFLY MIRROR IVORY</td>\n",
       "      <td>2</td>\n",
       "      <td>2011-12-05 17:24:00</td>\n",
       "      <td>2.46</td>\n",
       "      <td>NaN</td>\n",
       "      <td>United Kingdom</td>\n",
       "    </tr>\n",
       "    <tr>\n",
       "      <th>475643</th>\n",
       "      <td>576909</td>\n",
       "      <td>23158</td>\n",
       "      <td>SET OF 5 LUCKY CAT MAGNETS</td>\n",
       "      <td>12</td>\n",
       "      <td>2011-11-17 09:49:00</td>\n",
       "      <td>2.08</td>\n",
       "      <td>12471.0</td>\n",
       "      <td>Germany</td>\n",
       "    </tr>\n",
       "    <tr>\n",
       "      <th>336507</th>\n",
       "      <td>566345</td>\n",
       "      <td>85199L</td>\n",
       "      <td>LARGE HANGING IVORY &amp; RED WOOD BIRD</td>\n",
       "      <td>48</td>\n",
       "      <td>2011-09-12 12:27:00</td>\n",
       "      <td>0.65</td>\n",
       "      <td>17685.0</td>\n",
       "      <td>United Kingdom</td>\n",
       "    </tr>\n",
       "    <tr>\n",
       "      <th>503999</th>\n",
       "      <td>578941</td>\n",
       "      <td>84991</td>\n",
       "      <td>60 TEATIME FAIRY CAKE CASES</td>\n",
       "      <td>2</td>\n",
       "      <td>2011-11-27 13:26:00</td>\n",
       "      <td>0.55</td>\n",
       "      <td>16024.0</td>\n",
       "      <td>United Kingdom</td>\n",
       "    </tr>\n",
       "    <tr>\n",
       "      <th>338931</th>\n",
       "      <td>566571</td>\n",
       "      <td>22568</td>\n",
       "      <td>FELTCRAFT CUSHION OWL</td>\n",
       "      <td>4</td>\n",
       "      <td>2011-09-13 12:49:00</td>\n",
       "      <td>3.75</td>\n",
       "      <td>17037.0</td>\n",
       "      <td>United Kingdom</td>\n",
       "    </tr>\n",
       "    <tr>\n",
       "      <th>509483</th>\n",
       "      <td>579307</td>\n",
       "      <td>22639</td>\n",
       "      <td>SET OF 4 NAPKIN CHARMS HEARTS</td>\n",
       "      <td>6</td>\n",
       "      <td>2011-11-29 11:34:00</td>\n",
       "      <td>2.55</td>\n",
       "      <td>17655.0</td>\n",
       "      <td>United Kingdom</td>\n",
       "    </tr>\n",
       "  </tbody>\n",
       "</table>\n",
       "</div>"
      ],
      "text/plain": [
       "       InvoiceNo StockCode                          Description  Quantity  \\\n",
       "229622    557066     22469                HEART OF WICKER SMALL        12   \n",
       "387333    570284     22834          HAND WARMER BABUSHKA DESIGN         1   \n",
       "165845    550829     23133     LARGE IVORY HEART WALL ORGANISER         1   \n",
       "37763     539477    84247G             DECOUPAGE,GREETING CARD,        12   \n",
       "528545    580729     23282      FOLDING BUTTERFLY MIRROR IVORY          2   \n",
       "475643    576909     23158          SET OF 5 LUCKY CAT MAGNETS         12   \n",
       "336507    566345    85199L  LARGE HANGING IVORY & RED WOOD BIRD        48   \n",
       "503999    578941     84991          60 TEATIME FAIRY CAKE CASES         2   \n",
       "338931    566571     22568                FELTCRAFT CUSHION OWL         4   \n",
       "509483    579307     22639        SET OF 4 NAPKIN CHARMS HEARTS         6   \n",
       "\n",
       "               InvoiceDate  UnitPrice  CustomerID         Country  \n",
       "229622 2011-06-16 15:10:00       1.65     17463.0  United Kingdom  \n",
       "387333 2011-10-10 11:30:00       2.10     14419.0  United Kingdom  \n",
       "165845 2011-04-21 10:19:00       8.25     17841.0  United Kingdom  \n",
       "37763  2010-12-19 14:58:00       0.42     18245.0  United Kingdom  \n",
       "528545 2011-12-05 17:24:00       2.46         NaN  United Kingdom  \n",
       "475643 2011-11-17 09:49:00       2.08     12471.0         Germany  \n",
       "336507 2011-09-12 12:27:00       0.65     17685.0  United Kingdom  \n",
       "503999 2011-11-27 13:26:00       0.55     16024.0  United Kingdom  \n",
       "338931 2011-09-13 12:49:00       3.75     17037.0  United Kingdom  \n",
       "509483 2011-11-29 11:34:00       2.55     17655.0  United Kingdom  "
      ]
     },
     "execution_count": 234,
     "metadata": {},
     "output_type": "execute_result"
    }
   ],
   "source": [
    "retail_df.sample(10)"
   ]
  },
  {
   "cell_type": "code",
   "execution_count": 235,
   "id": "7703979b",
   "metadata": {},
   "outputs": [
    {
     "name": "stdout",
     "output_type": "stream",
     "text": [
      "135080\n"
     ]
    }
   ],
   "source": [
    "# checking for the number of records without CustomerID\n",
    "retail_df_noCustomerID = len(retail_df[retail_df['CustomerID'].isnull()])\n",
    "print(retail_df_noCustomerID)"
   ]
  },
  {
   "cell_type": "markdown",
   "id": "32664115",
   "metadata": {},
   "source": [
    "## Issues in the Dataframe\n",
    "1. It can be seen that there are 5268 duplicate records \n",
    "2. It is observed that some orders doesn't have CustomerID\n",
    "3. it can be seen that CustomerID column is a datatype float64"
   ]
  },
  {
   "cell_type": "markdown",
   "id": "dd2c4315",
   "metadata": {},
   "source": [
    "# CLEANING UP"
   ]
  },
  {
   "cell_type": "markdown",
   "id": "abae502c",
   "metadata": {},
   "source": [
    "## Issue 1: DUPLICATED RECORDS"
   ]
  },
  {
   "cell_type": "markdown",
   "id": "328a211e",
   "metadata": {},
   "source": [
    "## Operation: To remove duplicate records"
   ]
  },
  {
   "cell_type": "markdown",
   "id": "abf7718b",
   "metadata": {},
   "source": [
    "### Code:"
   ]
  },
  {
   "cell_type": "code",
   "execution_count": 236,
   "id": "12237d75",
   "metadata": {},
   "outputs": [],
   "source": [
    "# removing duplicated records\n",
    "retail_df.drop_duplicates(inplace=True)"
   ]
  },
  {
   "cell_type": "markdown",
   "id": "fdcdfd4c",
   "metadata": {},
   "source": [
    "### Test:"
   ]
  },
  {
   "cell_type": "code",
   "execution_count": 237,
   "id": "d1bf48fd",
   "metadata": {},
   "outputs": [
    {
     "data": {
      "text/plain": [
       "0"
      ]
     },
     "execution_count": 237,
     "metadata": {},
     "output_type": "execute_result"
    }
   ],
   "source": [
    "sum(retail_df.duplicated())"
   ]
  },
  {
   "cell_type": "markdown",
   "id": "34aa0353",
   "metadata": {},
   "source": [
    "### Comment:"
   ]
  },
  {
   "cell_type": "markdown",
   "id": "acf4710d",
   "metadata": {},
   "source": [
    "Duplicated records have now being removed"
   ]
  },
  {
   "cell_type": "markdown",
   "id": "206fbfdb",
   "metadata": {},
   "source": [
    "## Issue 2: SOME ORDERS DOESNT HAVE CUSTOMER ID"
   ]
  },
  {
   "cell_type": "markdown",
   "id": "6815a74e",
   "metadata": {},
   "source": [
    "## Operation: To remove orders with no customer ID"
   ]
  },
  {
   "cell_type": "markdown",
   "id": "25f1e8f8",
   "metadata": {},
   "source": [
    "Since the overhaul purpose of this project is to create customer segmentation using the dataset only Invoice which contains CustomerID is needed"
   ]
  },
  {
   "cell_type": "markdown",
   "id": "c10afe10",
   "metadata": {},
   "source": [
    "### Code:"
   ]
  },
  {
   "cell_type": "code",
   "execution_count": 238,
   "id": "03fbde72",
   "metadata": {},
   "outputs": [],
   "source": [
    "## Creating a dataframe of only records with CustomerID\n",
    "df_with_CustomerID = retail_df[retail_df['CustomerID'].notnull()]"
   ]
  },
  {
   "cell_type": "code",
   "execution_count": 239,
   "id": "93f2b3bd",
   "metadata": {
    "scrolled": true
   },
   "outputs": [
    {
     "name": "stdout",
     "output_type": "stream",
     "text": [
      "<class 'pandas.core.frame.DataFrame'>\n",
      "Int64Index: 401604 entries, 0 to 541908\n",
      "Data columns (total 8 columns):\n",
      " #   Column       Non-Null Count   Dtype         \n",
      "---  ------       --------------   -----         \n",
      " 0   InvoiceNo    401604 non-null  object        \n",
      " 1   StockCode    401604 non-null  object        \n",
      " 2   Description  401604 non-null  object        \n",
      " 3   Quantity     401604 non-null  int64         \n",
      " 4   InvoiceDate  401604 non-null  datetime64[ns]\n",
      " 5   UnitPrice    401604 non-null  float64       \n",
      " 6   CustomerID   401604 non-null  float64       \n",
      " 7   Country      401604 non-null  object        \n",
      "dtypes: datetime64[ns](1), float64(2), int64(1), object(4)\n",
      "memory usage: 27.6+ MB\n"
     ]
    }
   ],
   "source": [
    "df_with_CustomerID.info()"
   ]
  },
  {
   "cell_type": "markdown",
   "id": "7d909d1f",
   "metadata": {},
   "source": [
    "### Test:"
   ]
  },
  {
   "cell_type": "code",
   "execution_count": 240,
   "id": "6e485d05",
   "metadata": {
    "scrolled": true
   },
   "outputs": [
    {
     "data": {
      "text/plain": [
       "0"
      ]
     },
     "execution_count": 240,
     "metadata": {},
     "output_type": "execute_result"
    }
   ],
   "source": [
    "sum(df_with_CustomerID['CustomerID'].isnull())"
   ]
  },
  {
   "cell_type": "markdown",
   "id": "af8bc4b9",
   "metadata": {},
   "source": [
    "### Comment"
   ]
  },
  {
   "cell_type": "markdown",
   "id": "0813d110",
   "metadata": {},
   "source": [
    "As shown above records without customerID have been removed"
   ]
  },
  {
   "cell_type": "markdown",
   "id": "85986161",
   "metadata": {},
   "source": [
    "## Issue 3: CUSTOMERID COLUMN IS IN FLOAT DATATYPE"
   ]
  },
  {
   "cell_type": "markdown",
   "id": "ea9f0d30",
   "metadata": {},
   "source": [
    "There is need to change the customerid column datatype from float to string since there is no possibility of carrying out arithmetic operations on this column"
   ]
  },
  {
   "cell_type": "markdown",
   "id": "57a8fc08",
   "metadata": {},
   "source": [
    "### Code"
   ]
  },
  {
   "cell_type": "code",
   "execution_count": 241,
   "id": "d852dcce",
   "metadata": {},
   "outputs": [],
   "source": [
    "new_df = df_with_CustomerID.copy()"
   ]
  },
  {
   "cell_type": "code",
   "execution_count": 250,
   "id": "bb015bf6",
   "metadata": {
    "scrolled": true
   },
   "outputs": [],
   "source": [
    "new_df['CustomerID'] = df_with_CustomerID['CustomerID'].astype(int).astype(object)\n"
   ]
  },
  {
   "cell_type": "markdown",
   "id": "674007de",
   "metadata": {},
   "source": [
    "### Test:"
   ]
  },
  {
   "cell_type": "code",
   "execution_count": 244,
   "id": "c30d73a1",
   "metadata": {
    "scrolled": true
   },
   "outputs": [
    {
     "name": "stdout",
     "output_type": "stream",
     "text": [
      "<class 'pandas.core.frame.DataFrame'>\n",
      "Int64Index: 401604 entries, 0 to 541908\n",
      "Data columns (total 8 columns):\n",
      " #   Column       Non-Null Count   Dtype         \n",
      "---  ------       --------------   -----         \n",
      " 0   InvoiceNo    401604 non-null  object        \n",
      " 1   StockCode    401604 non-null  object        \n",
      " 2   Description  401604 non-null  object        \n",
      " 3   Quantity     401604 non-null  int64         \n",
      " 4   InvoiceDate  401604 non-null  datetime64[ns]\n",
      " 5   UnitPrice    401604 non-null  float64       \n",
      " 6   CustomerID   401604 non-null  object        \n",
      " 7   Country      401604 non-null  object        \n",
      "dtypes: datetime64[ns](1), float64(1), int64(1), object(5)\n",
      "memory usage: 27.6+ MB\n"
     ]
    }
   ],
   "source": [
    "new_df.info()"
   ]
  },
  {
   "cell_type": "markdown",
   "id": "80c24900",
   "metadata": {},
   "source": [
    "### Comment:"
   ]
  },
  {
   "cell_type": "markdown",
   "id": "4744d205",
   "metadata": {},
   "source": [
    "CustomerID datatype have now being changed to string"
   ]
  },
  {
   "cell_type": "markdown",
   "id": "73d0d181",
   "metadata": {},
   "source": [
    "## SAVING THE CLEAN DATAFRAME"
   ]
  },
  {
   "cell_type": "code",
   "execution_count": 253,
   "id": "4ac39cc1",
   "metadata": {},
   "outputs": [],
   "source": [
    "new_df.to_csv(\"cleaned_dataset.csv\", index=False)"
   ]
  },
  {
   "cell_type": "code",
   "execution_count": null,
   "id": "9edcd877",
   "metadata": {},
   "outputs": [],
   "source": []
  }
 ],
 "metadata": {
  "kernelspec": {
   "display_name": "Python 3 (ipykernel)",
   "language": "python",
   "name": "python3"
  },
  "language_info": {
   "codemirror_mode": {
    "name": "ipython",
    "version": 3
   },
   "file_extension": ".py",
   "mimetype": "text/x-python",
   "name": "python",
   "nbconvert_exporter": "python",
   "pygments_lexer": "ipython3",
   "version": "3.9.13"
  }
 },
 "nbformat": 4,
 "nbformat_minor": 5
}
